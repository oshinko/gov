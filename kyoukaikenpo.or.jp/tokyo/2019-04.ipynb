{
 "cells": [
  {
   "cell_type": "code",
   "execution_count": 1,
   "id": "f925f6a9",
   "metadata": {},
   "outputs": [],
   "source": [
    "SRC = 'https://www.kyoukaikenpo.or.jp/~/media/Files/shared/hokenryouritu/h31/ippan/h31313tokyo.pdf'\n",
    "DST = '2019-04.csv'"
   ]
  },
  {
   "cell_type": "code",
   "execution_count": 2,
   "id": "7f7e39eb",
   "metadata": {},
   "outputs": [
    {
     "data": {
      "text/plain": [
       "'2022-05-07T15:37:43.524337+00:00'"
      ]
     },
     "execution_count": 2,
     "metadata": {},
     "output_type": "execute_result"
    }
   ],
   "source": [
    "import datetime\n",
    "import hashlib\n",
    "import io\n",
    "import pathlib\n",
    "import urllib.request\n",
    "\n",
    "try:\n",
    "    import tabula\n",
    "except ModuleNotFoundError:\n",
    "    !pip install tabula-py\n",
    "    import tabula\n",
    "\n",
    "datetime.datetime.now().astimezone(datetime.timezone.utc).isoformat()"
   ]
  },
  {
   "cell_type": "code",
   "execution_count": 3,
   "id": "61c648cc",
   "metadata": {},
   "outputs": [
    {
     "data": {
      "text/plain": [
       "'99d96249e4545015f23362f6c58c8c996dd5ea2e065965e039396f37258cd6db'"
      ]
     },
     "execution_count": 3,
     "metadata": {},
     "output_type": "execute_result"
    }
   ],
   "source": [
    "data = io.BytesIO()\n",
    "\n",
    "with urllib.request.urlopen(SRC) as f:\n",
    "    data.write(f.read())\n",
    "\n",
    "hashlib.sha256(data.getvalue()).hexdigest()"
   ]
  },
  {
   "cell_type": "code",
   "execution_count": 4,
   "id": "0b79b62b",
   "metadata": {
    "scrolled": false
   },
   "outputs": [
    {
     "data": {
      "text/plain": [
       "'ecb25f58871b08215c1ffe50551ebbdf7510dcbffea3aab97972eb6c838703c3'"
      ]
     },
     "execution_count": 4,
     "metadata": {},
     "output_type": "execute_result"
    }
   ],
   "source": [
    "data.seek(0)\n",
    "\n",
    "df = tabula.read_pdf(data, lattice=True, pages=1)[0]\n",
    "\n",
    "df = df.iloc[:, [1, 2, 3, 4, 5, 6, 7]]\n",
    "\n",
    "df.columns = \"\"\"\n",
    "標準報酬:等級\n",
    "標準報酬:月額\n",
    "報酬月額\n",
    "介護保険の被保険者でない場合:全額\n",
    "介護保険の被保険者でない場合:折半額\n",
    "介護保険の被保険者の場合:全額\n",
    "介護保険の被保険者の場合:折半額\n",
    "\"\"\".strip().split()\n",
    "\n",
    "df['標準報酬:等級'] = df['標準報酬:等級'].str.replace(r'\\([0-9]+\\)', '', regex=True)\n",
    "df = df[~df['標準報酬:等級'].isnull()]\n",
    "df = df[df['標準報酬:等級'].str.match(r'^[0-9]+$')]\n",
    "df['標準報酬:等級'] = df['標準報酬:等級'].astype(int)\n",
    "df = df.set_index('標準報酬:等級').sort_index()\n",
    "\n",
    "assert df.shape[0] == 50, f'等級数 ({df.shape[0]}) に過不足があります。'\n",
    "\n",
    "s = df['報酬月額'].str.replace(r'[^0-9~]', '', regex=True)\n",
    "df_ = s.str.split('~', n=1, expand=True)\n",
    "df_ = df_.rename(columns={0: '報酬月額:以上', 1: '報酬月額:未満'})\n",
    "df = df.merge(df_, left_index=True, right_index=True)\n",
    "\n",
    "del df['報酬月額']\n",
    "\n",
    "for x in df.columns:\n",
    "    df[x] = df[x].str.replace(',', '')\n",
    "\n",
    "df = df.replace('', float('nan'))\n",
    "df['報酬月額:以上'] = df['報酬月額:以上'].fillna(float('-inf')).astype(float)\n",
    "df['報酬月額:未満'] = df['報酬月額:未満'].fillna(float('+inf')).astype(float)\n",
    "df['標準報酬:月額'] = df['標準報酬:月額'].astype(int)\n",
    "\n",
    "for x in \"\"\"\n",
    "介護保険の被保険者でない場合:全額\n",
    "介護保険の被保険者でない場合:折半額\n",
    "介護保険の被保険者の場合:全額\n",
    "介護保険の被保険者の場合:折半額\n",
    "\"\"\".strip().split():\n",
    "    df[x] = df[x].astype(float)\n",
    "\n",
    "for x in \"\"\"\n",
    "介護保険の被保険者でない場合:\n",
    "介護保険の被保険者の場合:\n",
    "\"\"\".strip().split():\n",
    "    df[x + '控除額'] = (df[x + '折半額'] + .49).astype(int)\n",
    "\n",
    "df = df[\"\"\"\n",
    "標準報酬:月額\n",
    "報酬月額:以上\n",
    "報酬月額:未満\n",
    "介護保険の被保険者でない場合:全額\n",
    "介護保険の被保険者でない場合:折半額\n",
    "介護保険の被保険者でない場合:控除額\n",
    "介護保険の被保険者の場合:全額\n",
    "介護保険の被保険者の場合:折半額\n",
    "介護保険の被保険者の場合:控除額\n",
    "\"\"\".strip().split()]\n",
    "\n",
    "df.to_csv(DST)\n",
    "\n",
    "hashlib.sha256(pathlib.Path(DST).read_bytes()).hexdigest()"
   ]
  }
 ],
 "metadata": {
  "kernelspec": {
   "display_name": "Python 3 (ipykernel)",
   "language": "python",
   "name": "python3"
  },
  "language_info": {
   "codemirror_mode": {
    "name": "ipython",
    "version": 3
   },
   "file_extension": ".py",
   "mimetype": "text/x-python",
   "name": "python",
   "nbconvert_exporter": "python",
   "pygments_lexer": "ipython3",
   "version": "3.10.0"
  }
 },
 "nbformat": 4,
 "nbformat_minor": 5
}
