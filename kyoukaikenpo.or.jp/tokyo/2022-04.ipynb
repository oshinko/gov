{
 "cells": [
  {
   "cell_type": "code",
   "execution_count": 1,
   "id": "4ce77174",
   "metadata": {},
   "outputs": [],
   "source": [
    "SRC = 'https://www.kyoukaikenpo.or.jp/~/media/Files/shared/hokenryouritu/r4/ippan/r40213tokyo.pdf'\n",
    "DST = '2022-04.csv'"
   ]
  },
  {
   "cell_type": "code",
   "execution_count": 2,
   "id": "e46bcd26",
   "metadata": {},
   "outputs": [
    {
     "data": {
      "text/plain": [
       "'2022-04-03T13:24:29.715687+00:00'"
      ]
     },
     "execution_count": 2,
     "metadata": {},
     "output_type": "execute_result"
    }
   ],
   "source": [
    "import datetime\n",
    "import hashlib\n",
    "import io\n",
    "import pathlib\n",
    "import urllib.request\n",
    "\n",
    "try:\n",
    "    import tabula\n",
    "except ModuleNotFoundError:\n",
    "    !pip install tabula-py\n",
    "    import tabula\n",
    "\n",
    "datetime.datetime.now().astimezone(datetime.timezone.utc).isoformat()"
   ]
  },
  {
   "cell_type": "code",
   "execution_count": 3,
   "id": "2123e2f8",
   "metadata": {},
   "outputs": [
    {
     "data": {
      "text/plain": [
       "'089833b9cd860d67d4539ed708831d21c0190069322256d53c3f23d8c7a096f0'"
      ]
     },
     "execution_count": 3,
     "metadata": {},
     "output_type": "execute_result"
    }
   ],
   "source": [
    "data = io.BytesIO()\n",
    "\n",
    "with urllib.request.urlopen(SRC) as f:\n",
    "    data.write(f.read())\n",
    "\n",
    "hashlib.sha256(data.getvalue()).hexdigest()"
   ]
  },
  {
   "cell_type": "code",
   "execution_count": 4,
   "id": "efa6311a",
   "metadata": {},
   "outputs": [
    {
     "name": "stderr",
     "output_type": "stream",
     "text": [
      "Got stderr: 4月 03, 2022 10:24:30 午後 org.apache.fontbox.ttf.CmapSubtable processSubtype14\r\n",
      "警告: Format 14 cmap table is not supported and will be ignored\r\n",
      "4月 03, 2022 10:24:30 午後 org.apache.fontbox.ttf.CmapSubtable processSubtype14\r\n",
      "警告: Format 14 cmap table is not supported and will be ignored\r\n",
      "\n"
     ]
    },
    {
     "data": {
      "text/plain": [
       "'9e71c4cd4a06c2a49970c0362a09d05f0fcef556c3bfed919aa2c83a22336a76'"
      ]
     },
     "execution_count": 4,
     "metadata": {},
     "output_type": "execute_result"
    }
   ],
   "source": [
    "data.seek(0)\n",
    "\n",
    "df = tabula.read_pdf(data, lattice=True, pages=1)[0]\n",
    "\n",
    "df = df.iloc[:, [1, 2, 3, 4, 5, 6, 7]]\n",
    "\n",
    "df.columns = \"\"\"\n",
    "標準報酬:等級\n",
    "標準報酬:月額\n",
    "報酬月額\n",
    "介護保険の被保険者でない場合:全額\n",
    "介護保険の被保険者でない場合:折半額\n",
    "介護保険の被保険者の場合:全額\n",
    "介護保険の被保険者の場合:折半額\n",
    "\"\"\".strip().split()\n",
    "\n",
    "df['標準報酬:等級'] = df['標準報酬:等級'].str.replace(r'\\([0-9]+\\)', '', regex=True)\n",
    "df = df[~df['標準報酬:等級'].isnull()]\n",
    "df = df[df['標準報酬:等級'].str.match(r'^[0-9]+$')]\n",
    "df['標準報酬:等級'] = df['標準報酬:等級'].astype(int)\n",
    "df = df.set_index('標準報酬:等級').sort_index()\n",
    "\n",
    "assert df.shape[0] == 50, f'等級数 ({df.shape[0]}) に過不足があります。'\n",
    "\n",
    "s = df['報酬月額'].str.replace(r'[^0-9~]', '', regex=True)\n",
    "df_ = s.str.split('~', n=1, expand=True)\n",
    "df_ = df_.rename(columns={0: '報酬月額:以上', 1: '報酬月額:未満'})\n",
    "df = df.merge(df_, left_index=True, right_index=True)\n",
    "\n",
    "del df['報酬月額']\n",
    "\n",
    "for x in df.columns:\n",
    "    df[x] = df[x].str.replace(',', '')\n",
    "\n",
    "df = df.replace('', float('nan'))\n",
    "df['報酬月額:以上'] = df['報酬月額:以上'].fillna(float('-inf')).astype(float)\n",
    "df['報酬月額:未満'] = df['報酬月額:未満'].fillna(float('+inf')).astype(float)\n",
    "df['標準報酬:月額'] = df['標準報酬:月額'].astype(int)\n",
    "\n",
    "for x in \"\"\"\n",
    "介護保険の被保険者でない場合:全額\n",
    "介護保険の被保険者でない場合:折半額\n",
    "介護保険の被保険者の場合:全額\n",
    "介護保険の被保険者の場合:折半額\n",
    "\"\"\".strip().split():\n",
    "    df[x] = df[x].astype(float)\n",
    "\n",
    "for x in \"\"\"\n",
    "介護保険の被保険者でない場合:\n",
    "介護保険の被保険者の場合:\n",
    "\"\"\".strip().split():\n",
    "    df[x + '控除額'] = (df[x + '折半額'] + .49).astype(int)\n",
    "\n",
    "df = df[\"\"\"\n",
    "標準報酬:月額\n",
    "報酬月額:以上\n",
    "報酬月額:未満\n",
    "介護保険の被保険者でない場合:全額\n",
    "介護保険の被保険者でない場合:折半額\n",
    "介護保険の被保険者でない場合:控除額\n",
    "介護保険の被保険者の場合:全額\n",
    "介護保険の被保険者の場合:折半額\n",
    "介護保険の被保険者の場合:控除額\n",
    "\"\"\".strip().split()]\n",
    "\n",
    "df.to_csv(DST)\n",
    "\n",
    "hashlib.sha256(pathlib.Path(DST).read_bytes()).hexdigest()"
   ]
  }
 ],
 "metadata": {
  "kernelspec": {
   "display_name": "Python 3 (ipykernel)",
   "language": "python",
   "name": "python3"
  },
  "language_info": {
   "codemirror_mode": {
    "name": "ipython",
    "version": 3
   },
   "file_extension": ".py",
   "mimetype": "text/x-python",
   "name": "python",
   "nbconvert_exporter": "python",
   "pygments_lexer": "ipython3",
   "version": "3.10.0"
  }
 },
 "nbformat": 4,
 "nbformat_minor": 5
}
