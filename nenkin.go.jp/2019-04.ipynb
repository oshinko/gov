{
 "cells": [
  {
   "cell_type": "code",
   "execution_count": 1,
   "id": "4ce77174",
   "metadata": {},
   "outputs": [],
   "source": [
    "SRC = 'https://www.kyoukaikenpo.or.jp/~/media/Files/shared/hokenryouritu/h31/ippan/h31313tokyo.pdf'\n",
    "DST = '2019-04.csv'"
   ]
  },
  {
   "cell_type": "code",
   "execution_count": 2,
   "id": "e46bcd26",
   "metadata": {},
   "outputs": [
    {
     "data": {
      "text/plain": [
       "'2022-05-07T14:58:06.492462+00:00'"
      ]
     },
     "execution_count": 2,
     "metadata": {},
     "output_type": "execute_result"
    }
   ],
   "source": [
    "import datetime\n",
    "import hashlib\n",
    "import io\n",
    "import pathlib\n",
    "import urllib.request\n",
    "\n",
    "try:\n",
    "    import tabula\n",
    "except ModuleNotFoundError:\n",
    "    !pip install tabula-py\n",
    "    import tabula\n",
    "\n",
    "datetime.datetime.now().astimezone(datetime.timezone.utc).isoformat()"
   ]
  },
  {
   "cell_type": "code",
   "execution_count": 3,
   "id": "2123e2f8",
   "metadata": {},
   "outputs": [
    {
     "data": {
      "text/plain": [
       "'99d96249e4545015f23362f6c58c8c996dd5ea2e065965e039396f37258cd6db'"
      ]
     },
     "execution_count": 3,
     "metadata": {},
     "output_type": "execute_result"
    }
   ],
   "source": [
    "data = io.BytesIO()\n",
    "\n",
    "with urllib.request.urlopen(SRC) as f:\n",
    "    data.write(f.read())\n",
    "\n",
    "hashlib.sha256(data.getvalue()).hexdigest()"
   ]
  },
  {
   "cell_type": "code",
   "execution_count": 4,
   "id": "d43d9f24",
   "metadata": {},
   "outputs": [
    {
     "data": {
      "text/plain": [
       "'83f73ff6862583289afdc163262042301bd84088b2e99cd00176c20cf274f98d'"
      ]
     },
     "execution_count": 4,
     "metadata": {},
     "output_type": "execute_result"
    }
   ],
   "source": [
    "data.seek(0)\n",
    "\n",
    "df = tabula.read_pdf(data, lattice=True, pages=1)[0]\n",
    "\n",
    "df = df.iloc[:, [1, 2, 3, 9, 10]]\n",
    "\n",
    "df.columns = \"\"\"\n",
    "標準報酬:等級\n",
    "標準報酬:月額\n",
    "報酬月額\n",
    "全額\n",
    "折半額\n",
    "\"\"\".strip().split()\n",
    "\n",
    "df = df[~df['標準報酬:等級'].isnull()]\n",
    "df = df[df['標準報酬:等級'].str.contains(r'\\([0-9]+\\)')]\n",
    "df['標準報酬:等級'] = df['標準報酬:等級'].str.replace(\n",
    "    r'[^(]*\\(([0-9]+)\\)',\n",
    "    lambda m: m.group(1),\n",
    "    regex=True\n",
    ")\n",
    "df['標準報酬:等級'] = df['標準報酬:等級'].astype(int)\n",
    "df = df.set_index('標準報酬:等級').sort_index()\n",
    "\n",
    "assert df.shape[0] == 31, f'等級数 ({df.shape[0]}) に過不足があります。'\n",
    "\n",
    "s = df['報酬月額'].str.replace(r'[^0-9~]', '', regex=True)\n",
    "df_ = s.str.split('~', n=1, expand=True)\n",
    "df_ = df_.rename(columns={0: '報酬月額:以上', 1: '報酬月額:未満'})\n",
    "df = df.merge(df_, left_index=True, right_index=True)\n",
    "\n",
    "del df['報酬月額']\n",
    "\n",
    "for x in df.columns:\n",
    "    df[x] = df[x].str.replace(',', '')\n",
    "\n",
    "df['標準報酬:月額'] = df['標準報酬:月額'].astype(int)\n",
    "\n",
    "for x in \"\"\"\n",
    "報酬月額:以上\n",
    "報酬月額:未満\n",
    "全額\n",
    "折半額\n",
    "\"\"\".strip().split():\n",
    "    df[x] = df[x].astype(float)\n",
    "\n",
    "df.loc[df.index.min(), '報酬月額:以上'] = float('-inf')\n",
    "df.loc[df.index.max(), '報酬月額:未満'] = float('inf')\n",
    "\n",
    "for x in \"\"\"\n",
    "折半額\n",
    "\"\"\".strip().split():\n",
    "    df['控除額'] = (df['折半額'] + .49).astype(int)\n",
    "\n",
    "df = df[\"\"\"\n",
    "標準報酬:月額\n",
    "報酬月額:以上\n",
    "報酬月額:未満\n",
    "全額\n",
    "折半額\n",
    "控除額\n",
    "\"\"\".strip().split()]\n",
    "\n",
    "df.to_csv(DST)\n",
    "\n",
    "hashlib.sha256(pathlib.Path(DST).read_bytes()).hexdigest()"
   ]
  }
 ],
 "metadata": {
  "kernelspec": {
   "display_name": "Python 3 (ipykernel)",
   "language": "python",
   "name": "python3"
  },
  "language_info": {
   "codemirror_mode": {
    "name": "ipython",
    "version": 3
   },
   "file_extension": ".py",
   "mimetype": "text/x-python",
   "name": "python",
   "nbconvert_exporter": "python",
   "pygments_lexer": "ipython3",
   "version": "3.10.0"
  }
 },
 "nbformat": 4,
 "nbformat_minor": 5
}
